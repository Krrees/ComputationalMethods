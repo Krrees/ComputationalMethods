{
 "metadata": {
  "name": ""
 },
 "nbformat": 3,
 "nbformat_minor": 0,
 "worksheets": [
  {
   "cells": [
    {
     "cell_type": "markdown",
     "metadata": {},
     "source": [
      "+ Github"
     ]
    },
    {
     "cell_type": "markdown",
     "metadata": {},
     "source": [
      "+ PyCharm"
     ]
    },
    {
     "cell_type": "markdown",
     "metadata": {},
     "source": [
      "+ Anaconda, ipython notebook\n",
      "    + ipython notebook viewer\n",
      "    + wakari.io"
     ]
    }
   ],
   "metadata": {}
  }
 ]
}