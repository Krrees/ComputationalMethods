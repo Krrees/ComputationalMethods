{
 "metadata": {
  "name": ""
 },
 "nbformat": 3,
 "nbformat_minor": 0,
 "worksheets": [
  {
   "cells": [
    {
     "cell_type": "code",
     "collapsed": false,
     "input": [
      "profile_dir = get_ipython().profile_dir.location\n",
      "profile_dir"
     ],
     "language": "python",
     "metadata": {},
     "outputs": [
      {
       "metadata": {},
       "output_type": "pyout",
       "prompt_number": 1,
       "text": [
        "u'/Users/panand/.ipython/profile_default'"
       ]
      }
     ],
     "prompt_number": 1
    },
    {
     "cell_type": "code",
     "collapsed": false,
     "input": [
      "import os\n",
      "tgt = os.path.join( profile_dir, 'static', 'custom')\n",
      "!git clone https://github.com/ipython-contrib/IPython-notebook-extensions.git $tgt"
     ],
     "language": "python",
     "metadata": {},
     "outputs": [
      {
       "output_type": "stream",
       "stream": "stdout",
       "text": [
        "Cloning into /Users/panand/.ipython/profile_default/static/custom...\r\n"
       ]
      },
      {
       "output_type": "stream",
       "stream": "stdout",
       "text": [
        "remote: Counting objects: 444, done.\u001b[K\r\n",
        "remote: Compressing objects:   0% (1/262)   \u001b[K\r",
        "remote: Compressing objects:   1% (3/262)   \u001b[K\r",
        "remote: Compressing objects:   2% (6/262)   \u001b[K\r",
        "remote: Compressing objects:   3% (8/262)   \u001b[K\r",
        "remote: Compressing objects:   4% (11/262)   \u001b[K\r",
        "remote: Compressing objects:   5% (14/262)   \u001b[K\r",
        "remote: Compressing objects:   6% (16/262)   \u001b[K\r",
        "remote: Compressing objects:   7% (19/262)   \u001b[K\r",
        "remote: Compressing objects:   8% (21/262)   \u001b[K\r",
        "remote: Compressing objects:   9% (24/262)   \u001b[K\r",
        "remote: Compressing objects:  10% (27/262)   \u001b[K\r",
        "remote: Compressing objects:  11% (29/262)   \u001b[K\r",
        "remote: Compressing objects:  12% (32/262)   \u001b[K\r",
        "remote: Compressing objects:  13% (35/262)   \u001b[K\r",
        "remote: Compressing objects:  14% (37/262)   \u001b[K\r",
        "remote: Compressing objects:  15% (40/262)   \u001b[K\r"
       ]
      },
      {
       "output_type": "stream",
       "stream": "stdout",
       "text": [
        "remote: Compressing objects:  16% (42/262)   \u001b[K\r",
        "remote: Compressing objects:  17% (45/262)   \u001b[K\r",
        "remote: Compressing objects:  18% (48/262)   \u001b[K\r",
        "remote: Compressing objects:  19% (50/262)   \u001b[K\r",
        "remote: Compressing objects:  20% (53/262)   \u001b[K\r",
        "remote: Compressing objects:  21% (56/262)   \u001b[K\r",
        "remote: Compressing objects:  22% (58/262)   \u001b[K\r",
        "remote: Compressing objects:  23% (61/262)   \u001b[K\r",
        "remote: Compressing objects:  24% (63/262)   \u001b[K\r",
        "remote: Compressing objects:  25% (66/262)   \u001b[K\r",
        "remote: Compressing objects:  26% (69/262)   \u001b[K\r",
        "remote: Compressing objects:  27% (71/262)   \u001b[K\r",
        "remote: Compressing objects:  28% (74/262)   \u001b[K\r",
        "remote: Compressing objects:  29% (76/262)   \u001b[K\r",
        "remote: Compressing objects:  30% (79/262)   \u001b[K\r",
        "remote: Compressing objects:  31% (82/262)   \u001b[K\r",
        "remote: Compressing objects:  32% (84/262)   \u001b[K\r",
        "remote: Compressing objects:  33% (87/262)   \u001b[K\r",
        "remote: Compressing objects:  34% (90/262)   \u001b[K\r",
        "remote: Compressing objects:  35% (92/262)   \u001b[K\r",
        "remote: Compressing objects:  36% (95/262)   \u001b[K\r",
        "remote: Compressing objects:  37% (97/262)   \u001b[K\r",
        "remote: Compressing objects:  38% (100/262)   \u001b[K\r",
        "remote: Compressing objects:  39% (103/262)   \u001b[K\r",
        "remote: Compressing objects:  40% (105/262)   \u001b[K\r",
        "remote: Compressing objects:  41% (108/262)   \u001b[K\r",
        "remote: Compressing objects:  42% (111/262)   \u001b[K\r",
        "remote: Compressing objects:  43% (113/262)   \u001b[K\r",
        "remote: Compressing objects:  44% (116/262)   \u001b[K\r",
        "remote: Compressing objects:  45% (118/262)   \u001b[K\r",
        "remote: Compressing objects:  46% (121/262)   \u001b[K\r",
        "remote: Compressing objects:  47% (124/262)   \u001b[K\r",
        "remote: Compressing objects:  48% (126/262)   \u001b[K\r",
        "remote: Compressing objects:  49% (129/262)   \u001b[K\r",
        "remote: Compressing objects:  50% (131/262)   \u001b[K\r",
        "remote: Compressing objects:  51% (134/262)   \u001b[K\r",
        "remote: Compressing objects:  52% (137/262)   \u001b[K\r",
        "remote: Compressing objects:  53% (139/262)   \u001b[K\r",
        "remote: Compressing objects:  54% (142/262)   \u001b[K\r",
        "remote: Compressing objects:  55% (145/262)   \u001b[K\r",
        "remote: Compressing objects:  56% (147/262)   \u001b[K\r",
        "remote: Compressing objects:  57% (150/262)   \u001b[K\r",
        "remote: Compressing objects:  58% (152/262)   \u001b[K\r",
        "remote: Compressing objects:  59% (155/262)   \u001b[K\r",
        "remote: Compressing objects:  60% (158/262)   \u001b[K\r",
        "remote: Compressing objects:  61% (160/262)   \u001b[K\r",
        "remote: Compressing objects:  62% (163/262)   \u001b[K\r",
        "remote: Compressing objects:  63% (166/262)   \u001b[K\r",
        "remote: Compressing objects:  64% (168/262)   \u001b[K\r",
        "remote: Compressing objects:  65% (171/262)   \u001b[K\r",
        "remote: Compressing objects:  66% (173/262)   \u001b[K\r",
        "remote: Compressing objects:  67% (176/262)   \u001b[K\r",
        "remote: Compressing objects:  68% (179/262)   \u001b[K\r",
        "remote: Compressing objects:  69% (181/262)   \u001b[K\r",
        "remote: Compressing objects:  70% (184/262)   \u001b[K\r",
        "remote: Compressing objects:  71% (187/262)   \u001b[K\r",
        "remote: Compressing objects:  72% (189/262)   \u001b[K\r",
        "remote: Compressing objects:  73% (192/262)   \u001b[K\r",
        "remote: Compressing objects:  74% (194/262)   \u001b[K\r",
        "remote: Compressing objects:  75% (197/262)   \u001b[K\r",
        "remote: Compressing objects:  76% (200/262)   \u001b[K\r",
        "remote: Compressing objects:  77% (202/262)   \u001b[K\r",
        "remote: Compressing objects:  78% (205/262)   \u001b[K\r",
        "remote: Compressing objects:  79% (207/262)   \u001b[K\r",
        "remote: Compressing objects:  80% (210/262)   \u001b[K\r",
        "remote: Compressing objects:  81% (213/262)   \u001b[K\r",
        "remote: Compressing objects:  82% (215/262)   \u001b[K\r",
        "remote: Compressing objects:  83% (218/262)   \u001b[K\r",
        "remote: Compressing objects:  84% (221/262)   \u001b[K\r",
        "remote: Compressing objects:  85% (223/262)   \u001b[K\r",
        "remote: Compressing objects:  86% (226/262)   \u001b[K\r",
        "remote: Compressing objects:  87% (228/262)   \u001b[K\r",
        "remote: Compressing objects:  88% (231/262)   \u001b[K\r",
        "remote: Compressing objects:  89% (234/262)   \u001b[K\r",
        "remote: Compressing objects:  90% (236/262)   \u001b[K\r",
        "remote: Compressing objects:  91% (239/262)   \u001b[K\r",
        "remote: Compressing objects:  92% (242/262)   \u001b[K\r",
        "remote: Compressing objects:  93% (244/262)   \u001b[K\r",
        "remote: Compressing objects:  94% (247/262)   \u001b[K\r",
        "remote: Compressing objects:  95% (249/262)   \u001b[K\r",
        "remote: Compressing objects:  96% (252/262)   \u001b[K\r",
        "remote: Compressing objects:  97% (255/262)   \u001b[K\r",
        "remote: Compressing objects:  98% (257/262)   \u001b[K\r",
        "remote: Compressing objects:  99% (260/262)   \u001b[K\r",
        "remote: Compressing objects: 100% (262/262)   \u001b[K\r",
        "remote: Compressing objects: 100% (262/262), done.\u001b[K\r\n",
        "Receiving objects:   0% (1/444)   \r",
        "Receiving objects:   1% (5/444)   \r",
        "Receiving objects:   2% (9/444)   \r"
       ]
      },
      {
       "output_type": "stream",
       "stream": "stdout",
       "text": [
        "Receiving objects:   3% (14/444)   \r",
        "Receiving objects:   4% (18/444)   \r",
        "Receiving objects:   5% (23/444)   \r",
        "Receiving objects:   6% (27/444)   \r",
        "Receiving objects:   7% (32/444)   \r",
        "Receiving objects:   8% (36/444)   \r",
        "Receiving objects:   9% (40/444)   \r",
        "Receiving objects:  10% (45/444)   \r",
        "Receiving objects:  11% (49/444)   \r",
        "Receiving objects:  12% (54/444)   \r",
        "Receiving objects:  13% (58/444)   \r",
        "Receiving objects:  14% (63/444)   \r",
        "Receiving objects:  15% (67/444)   \r",
        "Receiving objects:  16% (72/444)   \r",
        "Receiving objects:  17% (76/444)   \r",
        "Receiving objects:  18% (80/444)   \r",
        "Receiving objects:  19% (85/444)   \r"
       ]
      },
      {
       "output_type": "stream",
       "stream": "stdout",
       "text": [
        "Receiving objects:  20% (89/444)   \r",
        "Receiving objects:  21% (94/444)   \r",
        "Receiving objects:  22% (98/444)   \r",
        "Receiving objects:  23% (103/444)   \r",
        "Receiving objects:  24% (107/444)   \r"
       ]
      },
      {
       "output_type": "stream",
       "stream": "stdout",
       "text": [
        "Receiving objects:  25% (111/444), 24.00 KiB | 39 KiB/s   \r",
        "Receiving objects:  26% (116/444), 24.00 KiB | 39 KiB/s   \r",
        "Receiving objects:  27% (120/444), 24.00 KiB | 39 KiB/s   \r"
       ]
      },
      {
       "output_type": "stream",
       "stream": "stdout",
       "text": [
        "Receiving objects:  28% (125/444), 24.00 KiB | 39 KiB/s   \r",
        "Receiving objects:  29% (129/444), 24.00 KiB | 39 KiB/s   \r",
        "Receiving objects:  30% (134/444), 24.00 KiB | 39 KiB/s   \r",
        "Receiving objects:  31% (138/444), 24.00 KiB | 39 KiB/s   \r",
        "Receiving objects:  32% (143/444), 24.00 KiB | 39 KiB/s   \r",
        "Receiving objects:  33% (147/444), 24.00 KiB | 39 KiB/s   \r",
        "Receiving objects:  34% (151/444), 24.00 KiB | 39 KiB/s   \r",
        "Receiving objects:  35% (156/444), 24.00 KiB | 39 KiB/s   \r",
        "Receiving objects:  36% (160/444), 24.00 KiB | 39 KiB/s   \r",
        "Receiving objects:  37% (165/444), 24.00 KiB | 39 KiB/s   \r",
        "Receiving objects:  38% (169/444), 24.00 KiB | 39 KiB/s   \r",
        "Receiving objects:  39% (174/444), 24.00 KiB | 39 KiB/s   \r",
        "Receiving objects:  40% (178/444), 24.00 KiB | 39 KiB/s   \r",
        "Receiving objects:  41% (183/444), 24.00 KiB | 39 KiB/s   \r",
        "Receiving objects:  42% (187/444), 24.00 KiB | 39 KiB/s   \r"
       ]
      },
      {
       "output_type": "stream",
       "stream": "stdout",
       "text": [
        "Receiving objects:  42% (188/444), 324.00 KiB | 316 KiB/s   \r"
       ]
      },
      {
       "output_type": "stream",
       "stream": "stdout",
       "text": [
        "Receiving objects:  42% (190/444), 952.00 KiB | 465 KiB/s   \r"
       ]
      },
      {
       "output_type": "stream",
       "stream": "stdout",
       "text": [
        "Receiving objects:  43% (191/444), 952.00 KiB | 465 KiB/s   \r"
       ]
      },
      {
       "output_type": "stream",
       "stream": "stdout",
       "text": [
        "Receiving objects:  43% (192/444), 1.54 MiB | 511 KiB/s   \r"
       ]
      },
      {
       "output_type": "stream",
       "stream": "stdout",
       "text": [
        "Receiving objects:  44% (196/444), 1.85 MiB | 525 KiB/s   \r"
       ]
      },
      {
       "output_type": "stream",
       "stream": "stdout",
       "text": [
        "Receiving objects:  45% (200/444), 1.85 MiB | 525 KiB/s   \r",
        "Receiving objects:  46% (205/444), 1.85 MiB | 525 KiB/s   \r",
        "Receiving objects:  47% (209/444), 1.85 MiB | 525 KiB/s   \r",
        "Receiving objects:  48% (214/444), 1.85 MiB | 525 KiB/s   \r",
        "Receiving objects:  49% (218/444), 1.85 MiB | 525 KiB/s   \r",
        "Receiving objects:  50% (222/444), 1.85 MiB | 525 KiB/s   \r",
        "Receiving objects:  51% (227/444), 1.85 MiB | 525 KiB/s   \r",
        "Receiving objects:  52% (231/444), 1.85 MiB | 525 KiB/s   \r",
        "Receiving objects:  53% (236/444), 1.85 MiB | 525 KiB/s   \r",
        "Receiving objects:  54% (240/444), 1.85 MiB | 525 KiB/s   \r",
        "Receiving objects:  55% (245/444), 1.85 MiB | 525 KiB/s   \r",
        "Receiving objects:  56% (249/444), 1.85 MiB | 525 KiB/s   \r",
        "Receiving objects:  57% (254/444), 1.85 MiB | 525 KiB/s   \r"
       ]
      },
      {
       "output_type": "stream",
       "stream": "stdout",
       "text": [
        "Receiving objects:  58% (258/444), 1.85 MiB | 525 KiB/s   \r",
        "Receiving objects:  59% (262/444), 1.85 MiB | 525 KiB/s   \r",
        "Receiving objects:  60% (267/444), 1.85 MiB | 525 KiB/s   \r",
        "Receiving objects:  61% (271/444), 1.85 MiB | 525 KiB/s   \r",
        "Receiving objects:  62% (276/444), 1.85 MiB | 525 KiB/s   \r",
        "Receiving objects:  63% (280/444), 1.85 MiB | 525 KiB/s   \r",
        "Receiving objects:  64% (285/444), 1.85 MiB | 525 KiB/s   \r",
        "Receiving objects:  65% (289/444), 1.85 MiB | 525 KiB/s   \r",
        "Receiving objects:  66% (294/444), 1.85 MiB | 525 KiB/s   \r",
        "Receiving objects:  67% (298/444), 1.85 MiB | 525 KiB/s   \r",
        "Receiving objects:  68% (302/444), 1.85 MiB | 525 KiB/s   \r",
        "Receiving objects:  69% (307/444), 1.85 MiB | 525 KiB/s   \r",
        "Receiving objects:  70% (311/444), 1.85 MiB | 525 KiB/s   \r",
        "Receiving objects:  71% (316/444), 1.85 MiB | 525 KiB/s   \r",
        "Receiving objects:  72% (320/444), 1.85 MiB | 525 KiB/s   \r",
        "Receiving objects:  73% (325/444), 1.85 MiB | 525 KiB/s   \r",
        "Receiving objects:  74% (329/444), 1.85 MiB | 525 KiB/s   \r",
        "Receiving objects:  75% (333/444), 1.85 MiB | 525 KiB/s   \r",
        "Receiving objects:  76% (338/444), 1.85 MiB | 525 KiB/s   \r",
        "Receiving objects:  77% (342/444), 1.85 MiB | 525 KiB/s   \r",
        "Receiving objects:  78% (347/444), 1.85 MiB | 525 KiB/s   \r",
        "Receiving objects:  79% (351/444), 1.85 MiB | 525 KiB/s   \r",
        "remote: Total 444 (delta 181), reused 425 (delta 165)\u001b[K\r\n",
        "Receiving objects:  80% (356/444), 1.85 MiB | 525 KiB/s   \r",
        "Receiving objects:  81% (360/444), 1.85 MiB | 525 KiB/s   \r",
        "Receiving objects:  82% (365/444), 1.85 MiB | 525 KiB/s   \r",
        "Receiving objects:  83% (369/444), 1.85 MiB | 525 KiB/s   \r",
        "Receiving objects:  84% (373/444), 1.85 MiB | 525 KiB/s   \r",
        "Receiving objects:  85% (378/444), 1.85 MiB | 525 KiB/s   \r",
        "Receiving objects:  86% (382/444), 1.85 MiB | 525 KiB/s   \r",
        "Receiving objects:  87% (387/444), 1.85 MiB | 525 KiB/s   \r",
        "Receiving objects:  88% (391/444), 1.85 MiB | 525 KiB/s   \r",
        "Receiving objects:  89% (396/444), 1.85 MiB | 525 KiB/s   \r",
        "Receiving objects:  90% (400/444), 1.85 MiB | 525 KiB/s   \r",
        "Receiving objects:  91% (405/444), 1.85 MiB | 525 KiB/s   \r",
        "Receiving objects:  92% (409/444), 1.85 MiB | 525 KiB/s   \r",
        "Receiving objects:  93% (413/444), 1.85 MiB | 525 KiB/s   \r",
        "Receiving objects:  94% (418/444), 1.85 MiB | 525 KiB/s   \r",
        "Receiving objects:  95% (422/444), 1.85 MiB | 525 KiB/s   \r",
        "Receiving objects:  96% (427/444), 1.85 MiB | 525 KiB/s   \r",
        "Receiving objects:  97% (431/444), 1.85 MiB | 525 KiB/s   \r",
        "Receiving objects:  98% (436/444), 1.85 MiB | 525 KiB/s   \r",
        "Receiving objects:  99% (440/444), 1.85 MiB | 525 KiB/s   \r",
        "Receiving objects: 100% (444/444), 1.85 MiB | 525 KiB/s   \r",
        "Receiving objects: 100% (444/444), 2.12 MiB | 525 KiB/s, done.\r\n",
        "Resolving deltas:   0% (0/181)   \r",
        "Resolving deltas:  35% (65/181)   \r",
        "Resolving deltas:  39% (72/181)   \r",
        "Resolving deltas:  40% (73/181)   \r",
        "Resolving deltas:  41% (76/181)   \r",
        "Resolving deltas:  48% (87/181)   \r",
        "Resolving deltas:  49% (90/181)   \r",
        "Resolving deltas:  51% (94/181)   \r",
        "Resolving deltas:  52% (95/181)   \r",
        "Resolving deltas:  53% (96/181)   \r",
        "Resolving deltas:  56% (103/181)   \r",
        "Resolving deltas:  58% (105/181)   \r",
        "Resolving deltas:  59% (108/181)   \r",
        "Resolving deltas:  60% (109/181)   \r",
        "Resolving deltas:  61% (111/181)   \r",
        "Resolving deltas:  70% (128/181)   \r",
        "Resolving deltas:  71% (129/181)   \r",
        "Resolving deltas:  72% (131/181)   \r",
        "Resolving deltas:  73% (133/181)   \r",
        "Resolving deltas:  75% (136/181)   \r",
        "Resolving deltas:  77% (140/181)   \r",
        "Resolving deltas:  78% (142/181)   \r",
        "Resolving deltas:  79% (143/181)   \r",
        "Resolving deltas:  81% (147/181)   \r",
        "Resolving deltas:  82% (149/181)   \r",
        "Resolving deltas:  85% (154/181)   \r",
        "Resolving deltas:  86% (156/181)   \r",
        "Resolving deltas:  87% (158/181)   \r",
        "Resolving deltas:  88% (160/181)   \r",
        "Resolving deltas:  89% (162/181)   \r",
        "Resolving deltas:  91% (166/181)   \r",
        "Resolving deltas:  92% (167/181)   \r",
        "Resolving deltas:  93% (170/181)   \r",
        "Resolving deltas:  94% (171/181)   \r",
        "Resolving deltas:  95% (172/181)   \r",
        "Resolving deltas: 100% (181/181)   \r",
        "Resolving deltas: 100% (181/181), done.\r\n"
       ]
      }
     ],
     "prompt_number": 2
    },
    {
     "cell_type": "code",
     "collapsed": false,
     "input": [
      "%cd $tgt\n",
      "!ls"
     ],
     "language": "python",
     "metadata": {},
     "outputs": [
      {
       "output_type": "stream",
       "stream": "stdout",
       "text": [
        "/Users/panand/.ipython/profile_default/static/custom\n"
       ]
      },
      {
       "output_type": "stream",
       "stream": "stdout",
       "text": [
        "README.md                 help_panel.js             \u001b[34mpython\u001b[m\u001b[m\r\n",
        "autosavetime.js           hide_input.js             read-only.js\r\n",
        "autoscroll.js             hierarchical_collapse.js  shift-tab.js\r\n",
        "breakpoint.js             history.js                \u001b[34mslidemode\u001b[m\u001b[m\r\n",
        "clean_start.js            hotkeys.js                slideshow.js\r\n",
        "codefolding.js            \u001b[34minit_cell\u001b[m\u001b[m                 split-combine.js\r\n",
        "comment-uncomment.js      linenumbers.js            \u001b[34mswc\u001b[m\u001b[m\r\n",
        "\u001b[34mcss_selector\u001b[m\u001b[m              nbconvert_button.js       toggle_all_line_number.js\r\n",
        "custom.example.js         \u001b[34mnbviewer_theme\u001b[m\u001b[m            \u001b[34mzenmode\u001b[m\u001b[m\r\n",
        "gist_it.js                no_exec_dunder.js\r\n",
        "help_panel.html           noscroll.js\r\n"
       ]
      }
     ],
     "prompt_number": 4
    },
    {
     "cell_type": "code",
     "collapsed": false,
     "input": [
      "%%writefile custom.js\n",
      "// we want strict javascript that fails\n",
      "// on ambiguous syntax\n",
      "\"using strict\";\n",
      "\n",
      "// do not use notebook loaded  event as it is re-triggerd on\n",
      "// revert to checkpoint but this allow extesnsion to be loaded\n",
      "// late enough to work.\n",
      "//\n",
      "\n",
      "$([IPython.events]).on('app_initialized.NotebookApp', function(){\n",
      "\n",
      "\n",
      "    /**  Use path to js file relative to /static/ dir without leading slash, or\n",
      "     *  js extension.\n",
      "     *  Link directly to file is js extension.\n",
      "     *\n",
      "     *  first argument of require is a **list** that can contains several modules if needed.\n",
      "     **/\n",
      "\n",
      "    // require(['custom/noscroll']);\n",
      "    // require(['custom/clean_start'])\n",
      "    // require(['custom/toggle_all_line_number'])\n",
      "    // require(['custom/gist_it']);\n",
      "\n",
      "    /**\n",
      "     *  Link to entrypoint if extesnsion is a folder.\n",
      "     *  to be consistent with commonjs module, the entrypoint is main.js\n",
      "     *  here youcan also trigger a custom function on load that will do extra\n",
      "     *  action with the module if needed\n",
      "     **/\n",
      "     require(['custom/slidemode/main'],function(slidemode){\n",
      "    //     // do stuff\n",
      "     })\n",
      "\n",
      "});\n"
     ],
     "language": "python",
     "metadata": {},
     "outputs": [
      {
       "output_type": "stream",
       "stream": "stdout",
       "text": [
        "Writing custom.js\n"
       ]
      }
     ],
     "prompt_number": 5
    },
    {
     "cell_type": "code",
     "collapsed": false,
     "input": [],
     "language": "python",
     "metadata": {},
     "outputs": []
    }
   ],
   "metadata": {}
  }
 ]
}