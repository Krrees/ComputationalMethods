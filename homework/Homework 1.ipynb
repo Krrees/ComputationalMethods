{
 "metadata": {
  "name": ""
 },
 "nbformat": 3,
 "nbformat_minor": 0,
 "worksheets": [
  {
   "cells": [
    {
     "cell_type": "markdown",
     "metadata": {},
     "source": [
      "Problem 1\n",
      "---------\n",
      "\n",
      "This problems has two logistical parts:\n",
      "\n",
      "1) Find a collaborator to program with for the course.\n",
      "2) Signup for github and make a repository for your homeworks. Github is public, so if you are worried about being embarrassed, make up a fake complicated username like triutouo that no one will guess."
     ]
    },
    {
     "cell_type": "markdown",
     "metadata": {},
     "source": [
      "Problem 2: Improving PigLatin A\n",
      "-----------------------------\n",
      "\n",
      "You have already written a script that takes an English word and coverts it to pseudo-PigLatin (by metathesizing an initial consonant. Now, fix it so that it handles consonant clusters too. Look at wordsToPigLatin to see what I'm expecting here. "
     ]
    },
    {
     "cell_type": "code",
     "collapsed": false,
     "input": [
      "#!/usr/bin/env python\n",
      "\n",
      "'''Creates a PigLatin generator.'''\n",
      "\n",
      "__author__ = 'panand'\n",
      "__email__ = \"panand@ucsc.edu\"\n",
      "__credits__ = []\n",
      "\n",
      "def pigLatin(w):\n",
      "    \"\"\"\n",
      "\tthis function handles pigLatin for word w\n",
      "\n",
      "    Args:\n",
      "\t\tw: a word\n",
      "\n",
      "    Returns:\n",
      "        pigLatined: a PigLatin representation of word w\n",
      "\n",
      "    Raises:\n",
      "        Nothing\n",
      "\n",
      "\t\"\"\"\n",
      "    \n",
      "    pigLatined = w #not what you'll do, but it will allow us to run the test\n",
      "\n",
      "    # put all your code in here\n",
      "    \n",
      "    return pigLatined\n",
      "\n",
      "if __name__ == \"__main__\":\n",
      "    \n",
      "    # all of the below code is used to TEST whether yours worked\n",
      "    # a list of test word -> pg examples, as a dict\n",
      "    wordsToPigLatin = {\"artichoke\": \"artichokay\", \"stipple\": \"ipplestay\", \"123re\": \"123re\", \"soup\": \"oupsay\"}\n",
      "    \n",
      "    # per word, get the pg, the expected answer, and print success\n",
      "    for word in wordsToPigLatin:\n",
      "        pg = pigLatin(word)\n",
      "        ans = wordsToPigLatin[word]\n",
      "        if word == ans:\n",
      "            result = \"PASS\"\n",
      "        else:\n",
      "            result = \"FAIL\"\n",
      "        print word, pg, result"
     ],
     "language": "python",
     "metadata": {},
     "outputs": [
      {
       "output_type": "stream",
       "stream": "stdout",
       "text": [
        "stipple stipple FAIL\n",
        "soup soup FAIL\n",
        "artichoke artichoke FAIL\n",
        "123re 123re PASS\n"
       ]
      }
     ],
     "prompt_number": 2
    },
    {
     "cell_type": "markdown",
     "metadata": {},
     "source": [
      "Problem 3: Improving PigLatin B\n",
      "-----------------------------\n",
      "\n",
      "Junko Ito (pc) tells me that for vowel-initial words, there are three dialects:\n",
      "\n",
      "- add \"way\" instead of \"ay\"\n",
      "- add \"yay\" instead of \"ay\"\n",
      "- add \"ay\"\n",
      "\n",
      "Now change the code to so that pigLatin adds the appropriate suffix depending on the dialect. See the below stub:"
     ]
    },
    {
     "cell_type": "code",
     "collapsed": false,
     "input": [
      "#!/usr/bin/env python\n",
      "\n",
      "'''Creates a PigLatin generator.'''\n",
      "\n",
      "__author__ = 'panand'\n",
      "__email__ = \"panand@ucsc.edu\"\n",
      "__credits__ = []\n",
      "\n",
      "def pigLatin(w, d):\n",
      "    \"\"\"\n",
      "\tthis function handles pigLatin for word w, for dialect d\n",
      "\n",
      "    Args:\n",
      "\t\tw: a word\n",
      "        d: a dialect (as a string)\n",
      "\n",
      "    Returns:\n",
      "        pigLatined: a PigLatin representation of word w\n",
      "\n",
      "    Raises:\n",
      "        Nothing\n",
      "\n",
      "\t\"\"\"\n",
      "    \n",
      "    pigLatined = w #not what you'll do, but it will allow us to run the test\n",
      "\n",
      "    # put all your code in here\n",
      "    \n",
      "    return pigLatined\n",
      "\n",
      "if __name__ == \"__main__\":\n",
      "    \n",
      "    # all of the below code is used to TEST whether yours worked\n",
      "    # a list of test word -> pg examples, as a dict\n",
      "    wordsToPigLatin = {\"artichoke\": (\"artichokyay\", \"yay\"), \n",
      "                       \"stipple\": (\"ipplestay\", \"way\"),\n",
      "                       \"123re\": (\"123re\", \"ay\"),\n",
      "                       \"soup\": {\"oupsay\", \"way\"}}\n",
      "    \n",
      "    # per word, get the pg, the expected answer, and print success\n",
      "    for word in wordsToPigLatin:\n",
      "        ans, dialect = wordsToPigLatin[word]\n",
      "        pg = pigLatin(word, dialect)\n",
      "        if word == ans:\n",
      "            result = \"PASS\"\n",
      "        else:\n",
      "            result = \"FAIL\"\n",
      "        print word, pg, result"
     ],
     "language": "python",
     "metadata": {},
     "outputs": [
      {
       "output_type": "stream",
       "stream": "stdout",
       "text": [
        "stipple stipple FAIL\n",
        "soup soup FAIL\n",
        "artichoke artichoke FAIL\n",
        "123re 123re PASS\n"
       ]
      }
     ],
     "prompt_number": 7
    },
    {
     "cell_type": "markdown",
     "metadata": {},
     "source": [
      "Problem 4\n",
      "---------\n",
      "\n",
      "Now write a program that will accept a string of words and return back the same string, except words are PigLatined. You can see the expected output below, as well as how I'd design that.\n",
      "\n",
      "We are not going to use the dialects here."
     ]
    },
    {
     "cell_type": "code",
     "collapsed": false,
     "input": [
      "#!/usr/bin/env python\n",
      "\n",
      "'''Creates a PigLatin generator.'''\n",
      "\n",
      "__author__ = 'panand'\n",
      "__email__ = \"panand@ucsc.edu\"\n",
      "__credits__ = []\n",
      "\n",
      "def pigLatin(w):\n",
      "    \"\"\"\n",
      "\tthis function handles pigLatin for word w\n",
      "\n",
      "    Args:\n",
      "\t\tw: a word\n",
      "\n",
      "    Returns:\n",
      "        pigLatined: a PigLatin representation of word w\n",
      "\n",
      "    Raises:\n",
      "        Nothing\n",
      "\n",
      "\t\"\"\"\n",
      "    \n",
      "    pigLatined = w #not what you'll do, but it will allow us to run the test\n",
      "\n",
      "    # put all your code in here\n",
      "    \n",
      "    return pigLatined\n",
      "\n",
      "def pigLatinParts(text):\n",
      "    \"\"\"\n",
      "\tthis function handles pigLatin for all words in string S. It also remembers the punctuation as at the last Goedel number.\n",
      "\n",
      "    Args:\n",
      "\t\ttext: a string\n",
      "\n",
      "    Returns:\n",
      "        pigLatined: what people can download and use (a program)\n",
      "        \n",
      "    Raises:\n",
      "        Nothing\n",
      "\n",
      "\t\"\"\"\n",
      "\n",
      "    return text #not what you want to do here, but this in the business of running.\n",
      "\n",
      "if __name__ == \"__main__\":\n",
      "    \n",
      "    # all of the below code is used to TEST whether yours worked\n",
      "    \n",
      "    inputLine = \"if you think, sadly, that he will actually visit, then I am fine.\"\n",
      "    key = \"ifway ouyay inkthay, adlysay, atthay ehay illway actuallyay visit, enthay I amay inefay.\" \n",
      "    pg = pigLatin(inputLine)\n",
      "    if pg ==key:\n",
      "        result = \"PASS\"\n",
      "    else:\n",
      "        result = \"FAIL\"\n",
      "    print word, pg, result"
     ],
     "language": "python",
     "metadata": {},
     "outputs": [
      {
       "output_type": "stream",
       "stream": "stdout",
       "text": [
        "123re if you think, sadly, that he will actually visit, then I am fine. FAIL\n"
       ]
      }
     ],
     "prompt_number": 10
    },
    {
     "cell_type": "code",
     "collapsed": false,
     "input": [],
     "language": "python",
     "metadata": {},
     "outputs": [],
     "prompt_number": 10
    }
   ],
   "metadata": {}
  }
 ]
}